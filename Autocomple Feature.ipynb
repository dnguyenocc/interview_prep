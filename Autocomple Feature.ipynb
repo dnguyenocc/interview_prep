{
 "cells": [
  {
   "cell_type": "code",
   "execution_count": 102,
   "metadata": {},
   "outputs": [],
   "source": [
    "class WordScores:\n",
    "    def __init__(self):\n",
    "        self.word_score = dict()\n",
    "        \n",
    "    def update(self, word, score):\n",
    "        self.word_score[word] = self.word_score.get(word, 0) + score\n",
    "    \n",
    "    def update_from_string(self, string, score):\n",
    "        for word in string.split(\" \"):\n",
    "            self.update(word, score)\n",
    "    \n",
    "    def get_word_score(self):\n",
    "        return self.word_score\n",
    "    \n",
    "    def getScore(self):\n",
    "        return self.score\n",
    "    \n",
    "class Node:\n",
    "    def __init__(self, char=None, score=0):\n",
    "        self.label = char\n",
    "        self.children = []\n",
    "        self.score = score\n",
    "        \n",
    "    def getChild(self, char):\n",
    "        for child in self.children:\n",
    "            if child.label == char:\n",
    "                return child\n",
    "        return None\n",
    "    \n",
    "    def updateScore(self, score):\n",
    "        self.score = max(score, self.score)\n",
    "        \n",
    "    def addChild(self, char, score):\n",
    "        self.children.append(Node(char, score))\n",
    "        \n",
    "    \n",
    "        \n",
    "class Trie:\n",
    "    def __init__(self, word_score):\n",
    "        \"\"\"\n",
    "        >>> docA = [\"ANIMALS\", \"ANT ANTELOPE CAMEL CAT DOG\"]\n",
    "        >>> docB = [\"DOG FACTS\", \"FURRY FURRY LOYAL\"]\n",
    "        >>> t = Trie([docA, docB])\n",
    "        \"\"\"\n",
    "        self.root = Node()\n",
    "        for word, score in word_score.items():\n",
    "            self.addWord(word, score)\n",
    "            \n",
    "    def addWord(self, word, score):\n",
    "        curr_node = self.getRoot()\n",
    "        for c in word:\n",
    "            child = curr_node.getChild(c)\n",
    "            if child == None:\n",
    "                curr_node.addChild(c, score)\n",
    "            else: \n",
    "                curr_node.updateScore(score)\n",
    "            curr_node = curr_node.getChild(c)\n",
    "                \n",
    "                \n",
    "    def getRoot(self):\n",
    "        return self.root\n",
    "    \n",
    "    def getNode(self, text):\n",
    "        curr = self.getRoot()\n",
    "        for c in text:\n",
    "            curr = curr.getChild(c)\n",
    "            if not curr:\n",
    "                return None\n",
    "        return curr\n",
    "    \n",
    "        \n",
    "        "
   ]
  },
  {
   "cell_type": "code",
   "execution_count": 103,
   "metadata": {},
   "outputs": [],
   "source": [
    "def auto_complete_feature(texts, docs):\n",
    "    word_score = WordScores()\n",
    "    for doc in docs:\n",
    "        word_score.update_from_string(doc[0], 10)\n",
    "        word_score.update_from_string(doc[1], 1)\n",
    "    trie = Trie(word_score.get_word_score())\n",
    "    for text in texts:\n",
    "        node = trie.getNode(text)\n",
    "        if node != None:\n",
    "            print(text, node.score)\n",
    "        else:\n",
    "            print(text, 0)\n",
    "         "
   ]
  },
  {
   "cell_type": "code",
   "execution_count": 104,
   "metadata": {},
   "outputs": [],
   "source": [
    "docA = [\"ANIMALS\", \"ANT ANTELOPE CAMEL CAT DOG\"]\n",
    "docB = [\"DOG FACTS\", \"FURRY FURRY LOYAL\"]\n",
    "docs = [docA, docB]\n",
    "texts = [\"AN\", \"DO\", \"FUR\", \"ELEPH\"]"
   ]
  },
  {
   "cell_type": "code",
   "execution_count": 105,
   "metadata": {},
   "outputs": [
    {
     "name": "stdout",
     "output_type": "stream",
     "text": [
      "AN 10\n",
      "DO 11\n",
      "FUR 2\n",
      "ELEPH 0\n"
     ]
    }
   ],
   "source": [
    "auto_complete_feature(texts, docs)"
   ]
  },
  {
   "cell_type": "code",
   "execution_count": null,
   "metadata": {},
   "outputs": [],
   "source": []
  }
 ],
 "metadata": {
  "kernelspec": {
   "display_name": "Python 3",
   "language": "python",
   "name": "python3"
  },
  "language_info": {
   "codemirror_mode": {
    "name": "ipython",
    "version": 3
   },
   "file_extension": ".py",
   "mimetype": "text/x-python",
   "name": "python",
   "nbconvert_exporter": "python",
   "pygments_lexer": "ipython3",
   "version": "3.7.3"
  }
 },
 "nbformat": 4,
 "nbformat_minor": 2
}
