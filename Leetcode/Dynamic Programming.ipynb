{
 "cells": [
  {
   "cell_type": "markdown",
   "metadata": {},
   "source": [
    "## 64. Minimum Path Sum"
   ]
  },
  {
   "cell_type": "markdown",
   "metadata": {},
   "source": [
    "```\n",
    "Given a m x n grid filled with non-negative numbers, find a path from top left to bottom right which minimizes the sum of all numbers along its path.\n",
    "\n",
    "Note: You can only move either down or right at any point in time.\n",
    "\n",
    "Example:\n",
    "\n",
    "Input:\n",
    "[\n",
    "  [1,3,1],\n",
    "  [1,5,1],\n",
    "  [4,2,1]\n",
    "]\n",
    "Output: 7\n",
    "Explanation: Because the path 1→3→1→1→1 minimizes the sum.\n",
    "```"
   ]
  },
  {
   "cell_type": "code",
   "execution_count": 2,
   "metadata": {},
   "outputs": [],
   "source": [
    "class Solution:\n",
    "    def minPathSum(self, grid):\n",
    "        m = len(grid)\n",
    "        n = len(grid[0])\n",
    "        dp = [[float(\"inf\")]*n for i in range(m)]\n",
    "        dp[m - 1][n - 1] = grid[m - 1][n - 1]\n",
    "        def getSum(row, col):\n",
    "            if row < m and col < n:\n",
    "                return dp[row][col]\n",
    "            else:\n",
    "                return float(\"inf\")\n",
    "        dp[m - 1][n - 1] = grid[m - 1][n - 1]\n",
    "        for row in range(m - 1, -1, -1):\n",
    "            for col in range(n - 1, -1, -1):\n",
    "                dp[row][col] = min(dp[row][col], grid[row][col] + min(getSum(row + 1, col), getSum(row, col + 1)))\n",
    "        \n",
    "        print(dp)\n",
    "        return dp[0][0]"
   ]
  },
  {
   "cell_type": "code",
   "execution_count": 9,
   "metadata": {},
   "outputs": [
    {
     "name": "stdout",
     "output_type": "stream",
     "text": [
      "[[7, 6, 3], [8, 7, 2], [7, 3, 1]]\n"
     ]
    }
   ],
   "source": [
    "grid = [\n",
    "  [1,3,1],\n",
    "  [1,5,1],\n",
    "  [4,2,1]\n",
    "];\n",
    "assert Solution().minPathSum(grid) == 7"
   ]
  },
  {
   "cell_type": "markdown",
   "metadata": {},
   "source": [
    "### 931. Minimum Falling Path Sum\n",
    "```\n",
    "Given a square array of integers A, we want the minimum sum of a falling path through A.\n",
    "\n",
    "A falling path starts at any element in the first row, and chooses one element from each row.  The next row's choice must be in a column that is different from the previous row's column by at most one.\n",
    "\n",
    "\n",
    "Example 1:\n",
    "\n",
    "Input: [[1,2,3],[4,5,6],[7,8,9]]\n",
    "Output: 12\n",
    "Explanation: \n",
    "The possible falling paths are:\n",
    "[1,4,7], [1,4,8], [1,5,7], [1,5,8], [1,5,9]\n",
    "[2,4,7], [2,4,8], [2,5,7], [2,5,8], [2,5,9], [2,6,8], [2,6,9]\n",
    "[3,5,7], [3,5,8], [3,5,9], [3,6,8], [3,6,9]\n",
    "The falling path with the smallest sum is [1,4,7], so the answer is 12.\n",
    "\n",
    " \n",
    "\n",
    "Note:\n",
    "\n",
    "1 <= A.length == A[0].length <= 100\n",
    "-100 <= A[i][j] <= 100\n",
    "```"
   ]
  },
  {
   "cell_type": "code",
   "execution_count": 11,
   "metadata": {},
   "outputs": [],
   "source": [
    "class Solution:\n",
    "    def minFallingPathSum(self, A):\n",
    "        m = len(A)\n",
    "        n = len(A[0])\n",
    "        dp = [[float(\"inf\")] * n for i in range(m)]\n",
    "        dp[m - 1] = A[m - 1]\n",
    "        for row in range(m - 2, -1, -1):\n",
    "            for col in range(n):\n",
    "                dp[row][col] = A[row][col] + min(dp[row + 1][max(0, col - 1): min(n, col + 2)])\n",
    "                \n",
    "        return min(dp[0])"
   ]
  },
  {
   "cell_type": "markdown",
   "metadata": {},
   "source": [
    "### Minimum Cost For Tickets\n",
    "```\n",
    "In a country popular for train travel, you have planned some train travelling one year in advance.  The days of the year that you will travel is given as an array days.  Each day is an integer from 1 to 365.\n",
    "\n",
    "Train tickets are sold in 3 different ways:\n",
    "\n",
    "a 1-day pass is sold for costs[0] dollars;\n",
    "a 7-day pass is sold for costs[1] dollars;\n",
    "a 30-day pass is sold for costs[2] dollars.\n",
    "The passes allow that many days of consecutive travel.  For example, if we get a 7-day pass on day 2, then we can travel for 7 days: day 2, 3, 4, 5, 6, 7, and 8.\n",
    "\n",
    "Return the minimum number of dollars you need to travel every day in the given list of days.\n",
    "\n",
    " \n",
    "\n",
    "Example 1:\n",
    "\n",
    "Input: days = [1,4,6,7,8,20], costs = [2,7,15]\n",
    "Output: 11\n",
    "Explanation: \n",
    "For example, here is one way to buy passes that lets you travel your travel plan:\n",
    "On day 1, you bought a 1-day pass for costs[0] = $2, which covered day 1.\n",
    "On day 3, you bought a 7-day pass for costs[1] = $7, which covered days 3, 4, ..., 9.\n",
    "On day 20, you bought a 1-day pass for costs[0] = $2, which covered day 20.\n",
    "In total you spent $11 and covered all the days of your travel.\n",
    "Example 2:\n",
    "\n",
    "Input: days = [1,2,3,4,5,6,7,8,9,10,30,31], costs = [2,7,15]\n",
    "Output: 17\n",
    "Explanation: \n",
    "For example, here is one way to buy passes that lets you travel your travel plan:\n",
    "On day 1, you bought a 30-day pass for costs[2] = $15 which covered days 1, 2, ..., 30.\n",
    "On day 31, you bought a 1-day pass for costs[0] = $2 which covered day 31.\n",
    "In total you spent $17 and covered all the days of your travel.\n",
    " \n",
    "\n",
    "Note:\n",
    "\n",
    "1 <= days.length <= 365\n",
    "1 <= days[i] <= 365\n",
    "days is in strictly increasing order.\n",
    "costs.length == 3\n",
    "1 <= costs[i] <= 1000\n",
    "```"
   ]
  },
  {
   "cell_type": "code",
   "execution_count": 14,
   "metadata": {},
   "outputs": [],
   "source": [
    "class Solution:\n",
    "    def mincostTickets(self, days, costs):\n",
    "        dp = [0]*366\n",
    "        def getCost(num):\n",
    "            if num < 366:\n",
    "                return dp[num]\n",
    "            else:\n",
    "                return 0\n",
    "        \n",
    "        prev = 366\n",
    "        prev_value = 0\n",
    "        \n",
    "        while len(days) > 0:\n",
    "            day = days.pop()\n",
    "            for i in range(day + 1, prev):\n",
    "                dp[i] = prev_value\n",
    "            dp[day] = min(costs[0] + getCost(day + 1), costs[1] + getCost(day + 7), costs[2] + getCost(day + 30))\n",
    "            prev = day\n",
    "            prev_value = dp[day]\n",
    "            \n",
    "            \n",
    "            \n",
    "        return dp[prev]"
   ]
  },
  {
   "cell_type": "code",
   "execution_count": null,
   "metadata": {},
   "outputs": [],
   "source": []
  }
 ],
 "metadata": {
  "kernelspec": {
   "display_name": "Python 3",
   "language": "python",
   "name": "python3"
  },
  "language_info": {
   "codemirror_mode": {
    "name": "ipython",
    "version": 3
   },
   "file_extension": ".py",
   "mimetype": "text/x-python",
   "name": "python",
   "nbconvert_exporter": "python",
   "pygments_lexer": "ipython3",
   "version": "3.6.9"
  }
 },
 "nbformat": 4,
 "nbformat_minor": 2
}
