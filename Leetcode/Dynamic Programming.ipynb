{
 "cells": [
  {
   "cell_type": "markdown",
   "metadata": {},
   "source": [
    "## 64. Minimum Path Sum"
   ]
  },
  {
   "cell_type": "markdown",
   "metadata": {},
   "source": [
    "```\n",
    "Given a m x n grid filled with non-negative numbers, find a path from top left to bottom right which minimizes the sum of all numbers along its path.\n",
    "\n",
    "Note: You can only move either down or right at any point in time.\n",
    "\n",
    "Example:\n",
    "\n",
    "Input:\n",
    "[\n",
    "  [1,3,1],\n",
    "  [1,5,1],\n",
    "  [4,2,1]\n",
    "]\n",
    "Output: 7\n",
    "Explanation: Because the path 1→3→1→1→1 minimizes the sum.\n",
    "```"
   ]
  },
  {
   "cell_type": "code",
   "execution_count": 2,
   "metadata": {},
   "outputs": [],
   "source": [
    "class Solution:\n",
    "    def minPathSum(self, grid):\n",
    "        m = len(grid)\n",
    "        n = len(grid[0])\n",
    "        dp = [[float(\"inf\")]*n for i in range(m)]\n",
    "        dp[m - 1][n - 1] = grid[m - 1][n - 1]\n",
    "        def getSum(row, col):\n",
    "            if row < m and col < n:\n",
    "                return dp[row][col]\n",
    "            else:\n",
    "                return float(\"inf\")\n",
    "        dp[m - 1][n - 1] = grid[m - 1][n - 1]\n",
    "        for row in range(m - 1, -1, -1):\n",
    "            for col in range(n - 1, -1, -1):\n",
    "                dp[row][col] = min(dp[row][col], grid[row][col] + min(getSum(row + 1, col), getSum(row, col + 1)))\n",
    "        \n",
    "        print(dp)\n",
    "        return dp[0][0]"
   ]
  },
  {
   "cell_type": "code",
   "execution_count": 9,
   "metadata": {},
   "outputs": [
    {
     "name": "stdout",
     "output_type": "stream",
     "text": [
      "[[7, 6, 3], [8, 7, 2], [7, 3, 1]]\n"
     ]
    }
   ],
   "source": [
    "grid = [\n",
    "  [1,3,1],\n",
    "  [1,5,1],\n",
    "  [4,2,1]\n",
    "];\n",
    "assert Solution().minPathSum(grid) == 7"
   ]
  },
  {
   "cell_type": "code",
   "execution_count": null,
   "metadata": {},
   "outputs": [],
   "source": []
  }
 ],
 "metadata": {
  "kernelspec": {
   "display_name": "Python 3",
   "language": "python",
   "name": "python3"
  },
  "language_info": {
   "codemirror_mode": {
    "name": "ipython",
    "version": 3
   },
   "file_extension": ".py",
   "mimetype": "text/x-python",
   "name": "python",
   "nbconvert_exporter": "python",
   "pygments_lexer": "ipython3",
   "version": "3.6.9"
  }
 },
 "nbformat": 4,
 "nbformat_minor": 2
}
