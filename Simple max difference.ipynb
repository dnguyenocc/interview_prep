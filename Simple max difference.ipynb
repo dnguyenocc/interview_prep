{
 "cells": [
  {
   "cell_type": "code",
   "execution_count": 1,
   "metadata": {},
   "outputs": [],
   "source": [
    "def simpleMaxDiff(arr):\n",
    "    \"\"\"\n",
    "    \"\"\"\n",
    "    result = -1\n",
    "    start = 0\n",
    "    for i in range(1, len(arr)):\n",
    "        if arr[i] > arr[start]:\n",
    "            result = max(result, arr[i] - arr[start])\n",
    "        else:\n",
    "            start = i\n",
    "    return result\n"
   ]
  },
  {
   "cell_type": "code",
   "execution_count": 5,
   "metadata": {},
   "outputs": [],
   "source": [
    "nums = [7, 1, 2, 5]\n",
    "assert simpleMaxDiff(nums) == 4\n",
    "nums = [7, 2, 3, 10, 2, 4, 8 ,1]\n",
    "assert simpleMaxDiff(nums) == 8"
   ]
  },
  {
   "cell_type": "code",
   "execution_count": 14,
   "metadata": {},
   "outputs": [],
   "source": [
    "def countSubarrays(a, m):  \n",
    "    count = 0\n",
    "    prefix = [0] * len(a) \n",
    "    odd = 0\n",
    "  \n",
    "    # traverse in the array  \n",
    "    for i in range(len(a)): \n",
    "        print(i, a[i], prefix)\n",
    "        prefix[odd] += 1\n",
    "  \n",
    "        # if array element is odd  \n",
    "        if (a[i] & 1):  \n",
    "            odd += 1\n",
    "  \n",
    "        # when number of odd elements>=M  \n",
    "        if (odd >= m):  \n",
    "            count += prefix[odd - m]  \n",
    "  \n",
    "    return count  \n",
    "      "
   ]
  },
  {
   "cell_type": "code",
   "execution_count": 15,
   "metadata": {},
   "outputs": [
    {
     "name": "stdout",
     "output_type": "stream",
     "text": [
      "0 1 [0, 0, 0, 0, 0]\n",
      "1 2 [1, 0, 0, 0, 0]\n",
      "2 3 [1, 1, 0, 0, 0]\n",
      "3 4 [1, 2, 0, 0, 0]\n",
      "4 5 [1, 2, 1, 0, 0]\n",
      "4\n"
     ]
    }
   ],
   "source": [
    "nums = [1, 2, 3, 4, 5]\n",
    "m = 2\n",
    "print(countSubarrays(nums, m))"
   ]
  },
  {
   "cell_type": "code",
   "execution_count": 21,
   "metadata": {},
   "outputs": [],
   "source": [
    "def mininumGroups(a):\n",
    "    children = dict()\n",
    "    for i in range(len(a)):\n",
    "        if a[i] != -1:\n",
    "            if not a[i] in children:\n",
    "                children[a[i]] = []\n",
    "            children[a[i]].append(i)\n",
    "    \n",
    "    def maxDepth(node):\n",
    "        result = 0\n",
    "        for child in children.get(node, []):\n",
    "            result = max(result, maxDepth(child))\n",
    "        return result + 1\n",
    "    result = 1\n",
    "    for i in range(len(a)):\n",
    "        if a[i] == -1:\n",
    "            result = max(result, maxDepth(i))\n",
    "    return result\n",
    "    \n",
    "    \n",
    "        "
   ]
  },
  {
   "cell_type": "code",
   "execution_count": 22,
   "metadata": {},
   "outputs": [
    {
     "data": {
      "text/plain": [
       "5"
      ]
     },
     "execution_count": 22,
     "metadata": {},
     "output_type": "execute_result"
    }
   ],
   "source": [
    "a = [-1, 8, 6, 0, 7, 3, 8, 9, -1, 6]\n",
    "mininumGroups(a)"
   ]
  },
  {
   "cell_type": "code",
   "execution_count": 50,
   "metadata": {},
   "outputs": [],
   "source": [
    "n = 10\n",
    "edges = [[1, 2], [1, 3], [2, 4], [3, 5], [7, 8], [1, 2]]"
   ]
  },
  {
   "cell_type": "code",
   "execution_count": 51,
   "metadata": {},
   "outputs": [],
   "source": [
    "import math\n",
    "def connectedSum(n, edges):\n",
    "    parent = [i for i in range(n)]\n",
    "    set_dict = dict()\n",
    "    def union(x1, x2):\n",
    "        parent[find(x1)] = parent[find(x2)]\n",
    "    \n",
    "    def find(x1):\n",
    "        if parent[x1] == x1:\n",
    "            return x1\n",
    "        parent[x1] = find(parent[x1])\n",
    "        return parent[x1]\n",
    "    \n",
    "    for x1, x2 in edges:\n",
    "        union(x1 - 1, x2 - 1)\n",
    "        \n",
    "    for i in range(n):\n",
    "        set_rep = find(i)\n",
    "        set_dict[set_rep] = set_dict.get(set_rep, 0) + 1\n",
    "        \n",
    "    result = 0\n",
    "    print(parent)\n",
    "    for x in set_dict.values():\n",
    "        result += math.ceil(math.sqrt(x))\n",
    "    return result\n"
   ]
  },
  {
   "cell_type": "code",
   "execution_count": 52,
   "metadata": {},
   "outputs": [
    {
     "name": "stdout",
     "output_type": "stream",
     "text": [
      "[4, 4, 4, 4, 4, 5, 7, 7, 8, 9]\n"
     ]
    },
    {
     "data": {
      "text/plain": [
       "8"
      ]
     },
     "execution_count": 52,
     "metadata": {},
     "output_type": "execute_result"
    }
   ],
   "source": [
    "connectedSum(n, edges)"
   ]
  },
  {
   "cell_type": "code",
   "execution_count": null,
   "metadata": {},
   "outputs": [],
   "source": []
  },
  {
   "cell_type": "code",
   "execution_count": null,
   "metadata": {},
   "outputs": [],
   "source": []
  }
 ],
 "metadata": {
  "kernelspec": {
   "display_name": "Python 3",
   "language": "python",
   "name": "python3"
  },
  "language_info": {
   "codemirror_mode": {
    "name": "ipython",
    "version": 3
   },
   "file_extension": ".py",
   "mimetype": "text/x-python",
   "name": "python",
   "nbconvert_exporter": "python",
   "pygments_lexer": "ipython3",
   "version": "3.7.3"
  }
 },
 "nbformat": 4,
 "nbformat_minor": 2
}
